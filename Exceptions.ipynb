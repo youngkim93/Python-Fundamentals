{
 "cells": [
  {
   "cell_type": "code",
   "execution_count": 6,
   "metadata": {},
   "outputs": [
    {
     "name": "stdout",
     "output_type": "stream",
     "text": [
      "conversion succeeded! x = 3\n",
      "Conversion failed!\n",
      "conversion failed due to type error\n"
     ]
    },
    {
     "data": {
      "text/plain": [
       "-1"
      ]
     },
     "execution_count": 6,
     "metadata": {},
     "output_type": "execute_result"
    }
   ],
   "source": [
    "''' more documentation on https://docs.python.org/3.6/library/exceptions.html'''\n",
    "\n",
    "def convert(s):\n",
    "    '''convert to an integer.'''\n",
    "    try:\n",
    "        x = int(s)\n",
    "        print('conversion succeeded! x =', x)\n",
    "    except ValueError:\n",
    "        print('Conversion failed!')\n",
    "        x = -1\n",
    "    except TypeError:\n",
    "        print('conversion failed due to type error')\n",
    "        x = -1\n",
    "    except BaseException:\n",
    "        x = -3\n",
    "        pass\n",
    "    return x\n",
    "\n",
    "def string_log(s):\n",
    "    v = convert(s)\n",
    "    return log(v)\n",
    "\n",
    "convert(3)\n",
    "convert('wassup')\n",
    "convert([1,2,3,4])\n"
   ]
  },
  {
   "cell_type": "code",
   "execution_count": null,
   "metadata": {},
   "outputs": [],
   "source": []
  }
 ],
 "metadata": {
  "kernelspec": {
   "display_name": "Python 3",
   "language": "python",
   "name": "python3"
  },
  "language_info": {
   "codemirror_mode": {
    "name": "ipython",
    "version": 3
   },
   "file_extension": ".py",
   "mimetype": "text/x-python",
   "name": "python",
   "nbconvert_exporter": "python",
   "pygments_lexer": "ipython3",
   "version": "3.6.4"
  }
 },
 "nbformat": 4,
 "nbformat_minor": 2
}
