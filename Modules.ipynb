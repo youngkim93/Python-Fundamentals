{
 "cells": [
  {
   "cell_type": "markdown",
   "metadata": {},
   "source": [
    "Modules\n",
    "__name__ is a special attribute that will be evaluated to '__main__' for the main module, or module name if imported\n",
    "\n",
    "\n"
   ]
  },
  {
   "cell_type": "markdown",
   "metadata": {},
   "source": [
    "Summary:\n",
    "    \n",
    "    Python code is placed in *.py files called \"modules\"\n",
    "    use __name__ to determine how the module is being used\n",
    "    if __name__ == '__main__' the module is being executed\n",
    "    \n",
    "command line argument are accessible through sys.argv\n",
    "script filename is in sys.argv[0]\n",
    "docstrings are a standalone literal string as the first staement of a function or module\n",
    "\n",
    "#!(shebang) controls module execution by the program loader"
   ]
  }
 ],
 "metadata": {
  "kernelspec": {
   "display_name": "Python 3",
   "language": "python",
   "name": "python3"
  },
  "language_info": {
   "codemirror_mode": {
    "name": "ipython",
    "version": 3
   },
   "file_extension": ".py",
   "mimetype": "text/x-python",
   "name": "python",
   "nbconvert_exporter": "python",
   "pygments_lexer": "ipython3",
   "version": "3.6.4"
  }
 },
 "nbformat": 4,
 "nbformat_minor": 2
}
