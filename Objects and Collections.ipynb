{
 "cells": [
  {
   "cell_type": "markdown",
   "metadata": {},
   "source": [
    "Everything is an object in python. When you assign an integer to a variable, the variable holds a reference to an object. Python objects are garbage collected.\n",
    "\n",
    "Python assignment operator only binds to names, never copies by values\n",
    "\n",
    "varaibles are basically named references to objects.\n",
    "\n",
    "Value equality(==) vs identity (is)\n",
    "value - equivalent 'contents'\n",
    "identity - same object\n",
    "\n",
    "for function arguments, they are passed by \"object references\"\n",
    "**reference**\n",
    "https://docs.python.org/dev/library/collections.html#module-collections\n"
   ]
  },
  {
   "cell_type": "code",
   "execution_count": 3,
   "metadata": {},
   "outputs": [
    {
     "data": {
      "text/plain": [
       "True"
      ]
     },
     "execution_count": 3,
     "metadata": {},
     "output_type": "execute_result"
    }
   ],
   "source": [
    "a = 5\n",
    "b = 5\n",
    "id(a)\n",
    "a is b\n",
    "id(a) == id(b)\n",
    "\n",
    "p = [4,7,11]\n",
    "q = [4,7,11]\n",
    "p is q # false\n",
    "p == q # true\n"
   ]
  },
  {
   "cell_type": "code",
   "execution_count": 4,
   "metadata": {},
   "outputs": [
    {
     "data": {
      "text/plain": [
       "True"
      ]
     },
     "execution_count": 4,
     "metadata": {},
     "output_type": "execute_result"
    }
   ],
   "source": [
    "\n",
    "def f(d):\n",
    "    return d\n",
    "\n",
    "c = [6,10,6]\n",
    "e = f(c)\n",
    "c is e\n"
   ]
  },
  {
   "cell_type": "code",
   "execution_count": 7,
   "metadata": {},
   "outputs": [
    {
     "name": "stdout",
     "output_type": "stream",
     "text": [
      "--\n",
      "hi\n",
      "--\n",
      "****************\n",
      "different border\n",
      "****************\n",
      "Tue Sep 18 00:51:48 2018\n",
      "Tue Sep 18 00:51:48 2018\n",
      "Tue Sep 18 00:51:48 2018\n"
     ]
    }
   ],
   "source": [
    "def banner(message, border='-'): # border is the keyword arguments message is the positional arguments\n",
    "    line = border * len(message)\n",
    "    print(line)\n",
    "    print(message)\n",
    "    print(line)\n",
    "    \n",
    "banner(\"hi\")\n",
    "banner(\"different border\", \"*\")\n",
    "\n",
    "\n",
    "# all keyword arguments must be specified before positional arguments\n",
    "\n",
    "''' \n",
    "default argument values are evaluated when 'def' is evaluated!\n",
    "\n",
    "'''\n",
    "import time\n",
    "time.ctime()\n",
    "def show_default(arg=time.ctime()):\n",
    "    print(arg)\n",
    "    \n",
    "show_default()\n",
    "show_default() # same time as before\n",
    "show_default() # same time as before\n",
    "\n"
   ]
  },
  {
   "cell_type": "markdown",
   "metadata": {},
   "source": [
    "**Type system**\n",
    "    \n",
    "dynamic: type resolved at runtime\n",
    "static: type resolved at compile time\n",
    "\n",
    "strong type: there is no implicit type conversion\n",
    "dynamic type: implicit type conversion\n",
    "    \n",
    "|   | static  | dynamic  |\n",
    "|---|---|---|\n",
    "| strong   | c++, haskell  | python, ruby  |\n",
    "| weak  |   | js|  \n",
    "\n",
    "** Scopes **\n",
    "local: inside the current function\n",
    "enclosing: any and all enclosing functions\n",
    "global: top-level of module\n",
    "built-in: provided by the builtins module\n",
    "\n"
   ]
  },
  {
   "cell_type": "code",
   "execution_count": 9,
   "metadata": {},
   "outputs": [
    {
     "name": "stdout",
     "output_type": "stream",
     "text": [
      "0\n",
      "10\n"
     ]
    }
   ],
   "source": [
    "''' demonstrate scopiong'''\n",
    "\n",
    "count = 0\n",
    "def show_count():\n",
    "    print(\"count = \", count)\n",
    "\n",
    "    \n",
    "def set_count(c):\n",
    "    count = c # local binding of count\n",
    "    \n",
    "set_count(5)    \n",
    "print(count)\n",
    "\n",
    "def set_count_global(c):\n",
    "    global count\n",
    "    count = c\n",
    "\n",
    "    \n",
    "set_count_global(10)\n",
    "print(count)\n",
    "    "
   ]
  },
  {
   "cell_type": "code",
   "execution_count": 10,
   "metadata": {},
   "outputs": [
    {
     "data": {
      "text/plain": [
       "['__builtins__',\n",
       " '__cached__',\n",
       " '__doc__',\n",
       " '__file__',\n",
       " '__loader__',\n",
       " '__name__',\n",
       " '__package__',\n",
       " '__spec__',\n",
       " 'fetch_words',\n",
       " 'main',\n",
       " 'print_words',\n",
       " 'sys',\n",
       " 'urlopen']"
      ]
     },
     "execution_count": 10,
     "metadata": {},
     "output_type": "execute_result"
    }
   ],
   "source": [
    "import words\n",
    "type(words)\n",
    "dir(words) # to see attributes of an object"
   ]
  },
  {
   "cell_type": "markdown",
   "metadata": {},
   "source": [
    "***Summary***\n",
    "\n",
    "- Think of named references to objets rather than variables\n",
    "-- assignment attaches a name to an object\n",
    "-- assigning from one reference to another puts two name tags on the same object\n",
    "- The garbage collector reclaims unreachable objects\n",
    "- id() returns a unique and constant identifier\n",
    "- the is operator determines identity\n",
    "- test for equivalence using ==\n",
    "- function arguments are passed by object reference\n"
   ]
  },
  {
   "cell_type": "code",
   "execution_count": null,
   "metadata": {},
   "outputs": [],
   "source": [
    "h = 'not perplexing do handwriting family where i alksdjf ejio'\n",
    "h.sort(key=len) # here len is the callable object (function)\n",
    "h.reverse()\n",
    "h.sort() # modifies the orignal list\n",
    "h.sorted() # makes a copy of sorted list"
   ]
  },
  {
   "cell_type": "markdown",
   "metadata": {},
   "source": [
    "\n"
   ]
  },
  {
   "cell_type": "code",
   "execution_count": 4,
   "metadata": {},
   "outputs": [
    {
     "name": "stdout",
     "output_type": "stream",
     "text": [
      "hello => 1\n",
      "world => 2\n",
      "! => 3\n"
     ]
    }
   ],
   "source": [
    "\n",
    "    \n"
   ]
  },
  {
   "cell_type": "markdown",
   "metadata": {},
   "source": []
  },
  {
   "cell_type": "code",
   "execution_count": 7,
   "metadata": {},
   "outputs": [
    {
     "data": {
      "text/plain": [
       "['__and__',\n",
       " '__class__',\n",
       " '__contains__',\n",
       " '__delattr__',\n",
       " '__dir__',\n",
       " '__doc__',\n",
       " '__eq__',\n",
       " '__format__',\n",
       " '__ge__',\n",
       " '__getattribute__',\n",
       " '__gt__',\n",
       " '__hash__',\n",
       " '__iand__',\n",
       " '__init__',\n",
       " '__init_subclass__',\n",
       " '__ior__',\n",
       " '__isub__',\n",
       " '__iter__',\n",
       " '__ixor__',\n",
       " '__le__',\n",
       " '__len__',\n",
       " '__lt__',\n",
       " '__ne__',\n",
       " '__new__',\n",
       " '__or__',\n",
       " '__rand__',\n",
       " '__reduce__',\n",
       " '__reduce_ex__',\n",
       " '__repr__',\n",
       " '__ror__',\n",
       " '__rsub__',\n",
       " '__rxor__',\n",
       " '__setattr__',\n",
       " '__sizeof__',\n",
       " '__str__',\n",
       " '__sub__',\n",
       " '__subclasshook__',\n",
       " '__xor__',\n",
       " 'add',\n",
       " 'clear',\n",
       " 'copy',\n",
       " 'difference',\n",
       " 'difference_update',\n",
       " 'discard',\n",
       " 'intersection',\n",
       " 'intersection_update',\n",
       " 'isdisjoint',\n",
       " 'issubset',\n",
       " 'issuperset',\n",
       " 'pop',\n",
       " 'remove',\n",
       " 'symmetric_difference',\n",
       " 'symmetric_difference_update',\n",
       " 'union',\n",
       " 'update']"
      ]
     },
     "execution_count": 7,
     "metadata": {},
     "output_type": "execute_result"
    }
   ],
   "source": []
  },
  {
   "cell_type": "markdown",
   "metadata": {},
   "source": []
  },
  {
   "cell_type": "code",
   "execution_count": null,
   "metadata": {},
   "outputs": [],
   "source": []
  }
 ],
 "metadata": {
  "kernelspec": {
   "display_name": "Python 3",
   "language": "python",
   "name": "python3"
  },
  "language_info": {
   "codemirror_mode": {
    "name": "ipython",
    "version": 3
   },
   "file_extension": ".py",
   "mimetype": "text/x-python",
   "name": "python",
   "nbconvert_exporter": "python",
   "pygments_lexer": "ipython3",
   "version": "3.6.4"
  }
 },
 "nbformat": 4,
 "nbformat_minor": 2
}
