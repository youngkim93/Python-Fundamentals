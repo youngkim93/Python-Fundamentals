{
 "cells": [
  {
   "cell_type": "markdown",
   "metadata": {},
   "source": [
    "Collections:\n",
    "    \n",
    "    str tuple\n",
    "    list range\n",
    "    dict set\n",
    "\n",
    "Should be sufficient for python3 programs\n",
    "\n",
    "**tuple**\n",
    "\n",
    "heterogeneous (can have different data types) immutable collection\n",
    "\n",
    "t = (\"Noray\", 4.384, 3)\n",
    "\n",
    "- zero based index\n",
    "- len(t) for number of elements\n",
    "- concatenate using + operator\n",
    "- can't use one object in parentheses as a single element tuple\n",
    "- for a single element tuple include a trailing comma. This is because python interprets parenthesis as an order of operation in arithmetic operation\n",
    "- parenthesis is optional\n",
    "\n",
    "**tuple unpacking**\n",
    "\n",
    "min_val, max_val = minmax([1,2,3,4,5])\n",
    "swapping: a, b = b, a\n",
    "\n",
    "**str**\n",
    "homogeneous immutable sequence of unicode codepoints (characters)\n",
    "\n",
    "- strings are immutable, so the += opreator re-binds the reference to a new object\n",
    "- use sparingly - concatenation with + or += can lead to performance degradation ( large numbers of temporaries with consequent costs for memory allocation and copies)\n",
    "- prefer using 'join' operator when combining strings\n",
    "- 'partition': divides a string into three around a separator: prefix, separator, suffix\n",
    "- 'format' with replacement field delimited by { and }\n",
    "\n",
    "**format method in str**\n",
    "- integer field names matched with positional arguments\n",
    "- field names can be ommited if used in sequence\n",
    "- name fields are matched with keyword arguments\n"
   ]
  },
  {
   "cell_type": "code",
   "execution_count": 3,
   "metadata": {},
   "outputs": [
    {
     "data": {
      "text/plain": [
       "'galactic position x=634.2 y=34.1 z=34.3'"
      ]
     },
     "execution_count": 3,
     "metadata": {},
     "output_type": "execute_result"
    }
   ],
   "source": [
    "''.join(['hello', 'world']) # using join to combine strings\n",
    "origin, _, dest = \"seattle-boston\".partition('-') # partition with dummy variable for separator\n",
    "\"the age of {0} is {1}\".format('Jim', 32) # format\n",
    "\n",
    "pos = (634.2, 34.1, 34.3)\n",
    "\"galactic position x={pos[0]} y={pos[1]} z={pos[2]}\".format(pos=pos) # Access values through keys or indexes with square brackets in the replacement field\n"
   ]
  },
  {
   "cell_type": "markdown",
   "metadata": {},
   "source": [
    "**range**\n",
    "arithmetic progression of integers\n",
    "\n",
    "**list**\n",
    "heterogeneous mutable sequence\n",
    "- zero and positive integers for\n",
    "- negative integers index from the end (last index at -1)\n",
    "\n",
    "**copies are shallow**\n",
    "making a new list containing the references to the same objects\n"
   ]
  },
  {
   "cell_type": "code",
   "execution_count": null,
   "metadata": {},
   "outputs": [],
   "source": []
  },
  {
   "cell_type": "code",
   "execution_count": 4,
   "metadata": {},
   "outputs": [
    {
     "data": {
      "text/plain": [
       "True"
      ]
     },
     "execution_count": 4,
     "metadata": {},
     "output_type": "execute_result"
    }
   ],
   "source": [
    "a = \"this is the list we look at\".split()\n",
    "slice = a[3:]\n",
    "slice = a[:3]\n",
    "# a[:x] + a[x:] = a\n",
    "start = 0\n",
    "end = -1\n",
    "step = 1\n",
    "\n",
    "a[start:end] # items start through end-1\n",
    "a[start:]    # items start through the rest of the array\n",
    "a[:end]      # items from the beginning through end-1\n",
    "a[:]         # a copy of the whole array. this is not a\n",
    "a[start:end:step] # start through not past end, by step\n",
    "\n",
    "a[::-1]    # all items in the array, reversed\n",
    "a[1::-1]   # the first two items, reversed\n",
    "a[:-3:-1]  # the last two items, reversed\n",
    "a[-3::-1]  # everything except the last two items, reversed\n",
    "\n",
    "\n",
    "# shallow\n",
    "a = [[1,2],[3,4]] # nested list\n",
    "b = a[:]\n",
    "a is b # flase\n",
    "a[0] is b[0] # true"
   ]
  },
  {
   "cell_type": "markdown",
   "metadata": {},
   "source": [
    "**Dictionary**\n",
    "\n",
    "- delimited by { and }\n",
    "- key-value pairs\n",
    "- key must be unique\n",
    "- corresponding keys and values are joined by colons\n",
    "- Keys must be immutable, while values can be mutable\n",
    "- you should never rely on the order of the dictionary\n",
    "\n",
    "- dictinoary does shallow copy, just like a list\n",
    "\n",
    "**Iteration**\n",
    "- iteartion is over keys\n",
    "- get corresponding value with d[key] lookup\n",
    "- Order is arbitrary!\n",
    "- use values() for an iterable view\n",
    "\n",
    "**methods**\n",
    "- use del keyword to delete from the table\n",
    "- use in keyword to find if the key is in the table"
   ]
  },
  {
   "cell_type": "code",
   "execution_count": null,
   "metadata": {},
   "outputs": [],
   "source": [
    "d = {\"hello\" : 1, \"world\" : 2, \"!\" : 3}\n",
    "e = d.copy()\n",
    "d[\"hello\"] is e[\"hello\"]\n",
    "\n",
    "for key, value in d.items():\n",
    "    print(\"{key} => {value}\".format(key=key, value=value))"
   ]
  },
  {
   "cell_type": "markdown",
   "metadata": {},
   "source": [
    "**Set**\n",
    "unordered collection of unique, immutable objects\n",
    "\n",
    "- use curly braces, but no more colon like dictionary\n",
    "- set is unordered\n",
    "- empty {} makes a dictionary, so use set() constructor\n",
    "\n",
    "\n",
    "**Membership**\n",
    "use in and not in \n",
    "\n",
    "**method**\n",
    "add(item) inserts a single statement\n",
    "duplicates are silently ignored\n",
    "for multiple elements use update() method\n",
    "\n",
    "\n",
    "**set algebra**\n",
    "- superset, subset, disjoint, etc\n",
    "\n",
    "\n"
   ]
  },
  {
   "cell_type": "code",
   "execution_count": null,
   "metadata": {},
   "outputs": [],
   "source": [
    "s = set([2,3,4,6,1, 3])\n",
    "s.update([3,1,23])\n",
    "s.add(34)\n",
    "s\n",
    "dir(s)"
   ]
  },
  {
   "cell_type": "markdown",
   "metadata": {},
   "source": [
    "**Collection Protocols**\n",
    "\n",
    "| Protocol | Implementing Collections |\n",
    "|----------|--------------------------|\n",
    "| Container | str, list, range, tuple, bytes, set, dict|\n",
    "| Sized   | str, list, range, tuple, bytes, set, dict|\n",
    "| iterable| str, list, range, tuple, bytes, set, dict|\n",
    "|sequence| str, list, range, tuple, bytes|\n",
    "|mutable sequence| list|\n",
    "|mutable set| set|\n",
    "|mutable mapping| dict|\n",
    "\n",
    "-to implement a protocol, objects must support certain operations\n",
    "- most collections implement container;sized and iterable\n",
    "- all except set and dictionary are sequences\n",
    "\n",
    "container: in and not in\n",
    "sized: len(s)\n",
    "itearble: iter(s)\n",
    "sequence: element retrieval by index, find items by value, count items(count), reversed sequence"
   ]
  },
  {
   "cell_type": "code",
   "execution_count": null,
   "metadata": {},
   "outputs": [],
   "source": []
  }
 ],
 "metadata": {
  "kernelspec": {
   "display_name": "Python 3",
   "language": "python",
   "name": "python3"
  },
  "language_info": {
   "codemirror_mode": {
    "name": "ipython",
    "version": 3
   },
   "file_extension": ".py",
   "mimetype": "text/x-python",
   "name": "python",
   "nbconvert_exporter": "python",
   "pygments_lexer": "ipython3",
   "version": "3.6.4"
  }
 },
 "nbformat": 4,
 "nbformat_minor": 2
}
